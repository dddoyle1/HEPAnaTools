{
 "cells": [
  {
   "cell_type": "code",
   "execution_count": 1,
   "metadata": {},
   "outputs": [],
   "source": [
    "import sys\n",
    "sys.path.append('../../')\n",
    "\n",
    "import numpy as np\n",
    "import pandas as pd\n",
    "import h5py\n",
    "import matplotlib.pyplot as plt\n",
    "import pyHEPTools.Fit.utils\n",
    "from pyHEPTools.Fit import LocalTemplateFit\n",
    "import scipy.optimize\n"
   ]
  },
  {
   "cell_type": "code",
   "execution_count": 16,
   "metadata": {},
   "outputs": [],
   "source": [
    "nbins = 10\n",
    "s, b0, b1, bins = pyHEPTools.Fit.utils.fake_templates(nbins, nsignal=4000, nbkgd0=5000, nbkgd1=5000)\n",
    "total = s + b0 + b1\n",
    "mock_data = np.random.poisson(1.2 * s + 0.8 * b0 + b1)\n",
    "cov, inv = pyHEPTools.Fit.utils.cov_inv(pyHEPTools.Fit.utils.poisson_multiverse(total, nuniverses=100))\n",
    "errors = np.sqrt(cov.diagonal() + 1 / total)\n",
    "\n",
    "total1 = 1.2 * s + 0.8 * b0 + b1"
   ]
  },
  {
   "cell_type": "code",
   "execution_count": 17,
   "metadata": {
    "scrolled": true
   },
   "outputs": [
    {
     "data": {
      "image/png": "[encoded data removed]",
      "text/plain": [
       "<Figure size 432x288 with 1 Axes>"
      ]
     },
     "metadata": {
      "needs_background": "light"
     },
     "output_type": "display_data"
    }
   ],
   "source": [
    "pyHEPTools.Fit.utils.plot_templates((s, b0, b1), ('Signal', 'Bkgd0', 'Bkgd1'), bins, data=mock_data, yerr=errors)\n"
   ]
  },
  {
   "cell_type": "code",
   "execution_count": 18,
   "metadata": {},
   "outputs": [
    {
     "data": {
      "image/png": "[encoded data removed]",
      "text/plain": [
       "<Figure size 432x288 with 2 Axes>"
      ]
     },
     "metadata": {
      "needs_background": "light"
     },
     "output_type": "display_data"
    }
   ],
   "source": [
    "pyHEPTools.Fit.utils.plot_mat(cov)"
   ]
  },
  {
   "cell_type": "code",
   "execution_count": 19,
   "metadata": {},
   "outputs": [],
   "source": [
    "fit = LocalTemplateFit(cov, (s, b0, b1))\n",
    "#results = fit.minimize(total1)\n",
    "results = fit.MINOS(total1)"
   ]
  },
  {
   "cell_type": "code",
   "execution_count": 20,
   "metadata": {
    "scrolled": true
   },
   "outputs": [
    {
     "name": "stdout",
     "output_type": "stream",
     "text": [
      "      dx: [(1.1808092860915784, 1.2191907139207325), (0.7825085374234501, 0.8174914625763217), (0.974626229760903, 1.0253737702463657)]\n",
      "   e0_dw:       converged: True\n",
      "           flag: 'converged'\n",
      " function_calls: 38\n",
      "     iterations: 36\n",
      "           root: 1.1808092860915784\n",
      "   e0_up:       converged: True\n",
      "           flag: 'converged'\n",
      " function_calls: 38\n",
      "     iterations: 36\n",
      "           root: 1.2191907139207325\n",
      "   e1_dw:       converged: True\n",
      "           flag: 'converged'\n",
      " function_calls: 38\n",
      "     iterations: 36\n",
      "           root: 0.7825085374234501\n",
      "   e1_up:       converged: True\n",
      "           flag: 'converged'\n",
      " function_calls: 38\n",
      "     iterations: 36\n",
      "           root: 0.8174914625763217\n",
      "   e2_dw:       converged: True\n",
      "           flag: 'converged'\n",
      " function_calls: 38\n",
      "     iterations: 36\n",
      "           root: 0.974626229760903\n",
      "   e2_up:       converged: True\n",
      "           flag: 'converged'\n",
      " function_calls: 38\n",
      "     iterations: 36\n",
      "           root: 1.0253737702463657\n",
      "     fun: 1.5916974362938958e-11\n",
      "    k(V): 24.395663060919475\n",
      " message: ['Maximum number of iteration reached']\n",
      "    nfev: 6010\n",
      "    nhev: 0\n",
      "     nit: 1000\n",
      "    njev: 21\n",
      "  status: 0\n",
      " success: True\n",
      "    time: 0.6645569079555571\n",
      "       x: array([1.20000002, 0.80000001, 1.00000009])\n"
     ]
    }
   ],
   "source": [
    "print(results)"
   ]
  },
  {
   "cell_type": "code",
   "execution_count": 21,
   "metadata": {},
   "outputs": [
    {
     "data": {
      "text/plain": [
       "<ErrorbarContainer object of 3 artists>"
      ]
     },
     "execution_count": 21,
     "metadata": {},
     "output_type": "execute_result"
    },
    {
     "data": {
      "image/png": "[encoded data removed]",
      "text/plain": [
       "<Figure size 432x288 with 1 Axes>"
      ]
     },
     "metadata": {
      "needs_background": "light"
     },
     "output_type": "display_data"
    }
   ],
   "source": [
    "x = np.linspace(1, len(results.x), len(results.x))\n",
    "plt.errorbar(x, results.x, ls='none', xerr=0.5, yerr=abs(np.array(results.dx).T-results.x))\n"
   ]
  },
  {
   "cell_type": "code",
   "execution_count": null,
   "metadata": {},
   "outputs": [],
   "source": []
  }
 ],
 "metadata": {
  "kernelspec": {
   "display_name": "Python 3",
   "language": "python",
   "name": "python3"
  },
  "language_info": {
   "codemirror_mode": {
    "name": "ipython",
    "version": 3
   },
   "file_extension": ".py",
   "mimetype": "text/x-python",
   "name": "python",
   "nbconvert_exporter": "python",
   "pygments_lexer": "ipython3",
   "version": "3.6.10"
  }
 },
 "nbformat": 4,
 "nbformat_minor": 4
}
