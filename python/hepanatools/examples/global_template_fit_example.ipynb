{
 "cells": [
  {
   "cell_type": "code",
   "execution_count": null,
   "metadata": {},
   "outputs": [],
   "source": [
    "import numpy as np\n",
    "import pandas as pd\n",
    "import h5py\n",
    "import matplotlib.pyplot as plt\n",
    "import hepanatools.fit.utils\n",
    "from hepanatools.fit import LocalTemplateFit, GlobalTemplateFit\n",
    "import scipy.optimize"
   ]
  },
  {
   "cell_type": "code",
   "execution_count": null,
   "metadata": {},
   "outputs": [],
   "source": [
    "phase_space = (2,2)\n",
    "nbins = 20\n",
    "signal, bkgd0, bkgd1, bins = hepanatools.fit.utils.fake_templates(nbins, shape=phase_space)\n",
    "total = signal + bkgd0 + bkgd1\n",
    "\n",
    "cov, inv = hepanatools.fit.utils.cov_inv(hepanatools.fit.utils.poisson_multiverse(total.flatten(), nuniverses=100))\n",
    "\n",
    "fit = GlobalTemplateFit(cov, (signal, bkgd0, bkgd1))\n",
    "\n",
    "mock_scales = np.ones((3,*phase_space))\n",
    "mock_scales[0] = np.linspace(1, 2, np.prod(phase_space)).reshape(mock_scales[0].shape)\n",
    "mock_scales[1] = (np.linspace(0.9, 1.2, np.prod(phase_space)))[::-1].reshape(mock_scales[1].shape)\n",
    "\n",
    "mock_data = np.random.poisson(fit.U(mock_scales.flatten()))"
   ]
  },
  {
   "cell_type": "code",
   "execution_count": null,
   "metadata": {},
   "outputs": [],
   "source": [
    "hepanatools.fit.utils.plot_templates((signal.flatten(), \n",
    "                                       bkgd0.flatten(),\n",
    "                                       bkgd1.flatten()),\n",
    "                                      ('Signal', \n",
    "                                       'Bkgd0', \n",
    "                                       'Bkgd1'), \n",
    "                                      np.linspace(0, len(signal.flatten()), len(signal.flatten())+1),\n",
    "                                      data=mock_data)"
   ]
  },
  {
   "cell_type": "code",
   "execution_count": null,
   "metadata": {},
   "outputs": [],
   "source": [
    "hepanatools.fit.utils.plot_mat(cov)"
   ]
  },
  {
   "cell_type": "code",
   "execution_count": null,
   "metadata": {},
   "outputs": [],
   "source": [
    "fit = GlobalTemplateFit(cov, (signal, bkgd0, bkgd1))"
   ]
  },
  {
   "cell_type": "code",
   "execution_count": null,
   "metadata": {},
   "outputs": [],
   "source": [
    "results = fit.MINOS(total.flatten())"
   ]
  },
  {
   "cell_type": "code",
   "execution_count": null,
   "metadata": {},
   "outputs": [],
   "source": [
    "x = np.linspace(1, len(results.x), len(results.x))\n",
    "plt.errorbar(x, results.x, ls='none', xerr=0.5, yerr=abs(np.array(results.dx).T-results.x))\n"
   ]
  },
  {
   "cell_type": "code",
   "execution_count": null,
   "metadata": {},
   "outputs": [],
   "source": []
  }
 ],
 "metadata": {
  "kernelspec": {
   "display_name": "Python 3",
   "language": "python",
   "name": "python3"
  },
  "language_info": {
   "codemirror_mode": {
    "name": "ipython",
    "version": 3
   },
   "file_extension": ".py",
   "mimetype": "text/x-python",
   "name": "python",
   "nbconvert_exporter": "python",
   "pygments_lexer": "ipython3",
   "version": "3.6.10"
  }
 },
 "nbformat": 4,
 "nbformat_minor": 4
}
